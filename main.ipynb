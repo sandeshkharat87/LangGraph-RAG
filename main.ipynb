{
 "cells": [
  {
   "cell_type": "code",
   "execution_count": 16,
   "metadata": {},
   "outputs": [
    {
     "name": "stderr",
     "output_type": "stream",
     "text": [
      "USER_AGENT environment variable not set, consider setting it to identify your requests.\n"
     ]
    }
   ],
   "source": [
    "from langchain_community.document_loaders import WebBaseLoader\n",
    "from langchain_community.vectorstores import Chroma\n",
    "from langchain_text_splitters import RecursiveCharacterTextSplitter\n",
    "from langchain.embeddings import HuggingFaceEmbeddings"
   ]
  },
  {
   "cell_type": "code",
   "execution_count": 17,
   "metadata": {},
   "outputs": [],
   "source": [
    "from langchain_ollama.chat_models import ChatOllama\n",
    "\n",
    "llm = ChatOllama(model=\"cow/gemma2_tools:2b\")"
   ]
  },
  {
   "cell_type": "code",
   "execution_count": 18,
   "metadata": {},
   "outputs": [
    {
     "name": "stderr",
     "output_type": "stream",
     "text": [
      "/tmp/ipykernel_5181/3414252995.py:1: LangChainDeprecationWarning: The class `HuggingFaceEmbeddings` was deprecated in LangChain 0.2.2 and will be removed in 1.0. An updated version of the class exists in the :class:`~langchain-huggingface package and should be used instead. To use it run `pip install -U :class:`~langchain-huggingface` and import as `from :class:`~langchain_huggingface import HuggingFaceEmbeddings``.\n",
      "  embed_model = HuggingFaceEmbeddings(model_name=\"sentence-transformers/all-MiniLM-L6-v2\")\n"
     ]
    }
   ],
   "source": [
    "embed_model = HuggingFaceEmbeddings(model_name=\"sentence-transformers/all-MiniLM-L6-v2\")"
   ]
  },
  {
   "cell_type": "code",
   "execution_count": 19,
   "metadata": {},
   "outputs": [
    {
     "data": {
      "text/plain": [
       "AIMessage(content='The longest river in India is the **Ganga**. \\r\\n', additional_kwargs={}, response_metadata={'model': 'cow/gemma2_tools:2b', 'created_at': '2024-12-05T12:44:33.105476915Z', 'done': True, 'done_reason': 'stop', 'total_duration': 5541115291, 'load_duration': 4998775112, 'prompt_eval_count': 21, 'prompt_eval_duration': 261000000, 'eval_count': 14, 'eval_duration': 279000000, 'message': Message(role='assistant', content='', images=None, tool_calls=None)}, id='run-b5107e36-c2b4-4718-a921-0f72fd324811-0', usage_metadata={'input_tokens': 21, 'output_tokens': 14, 'total_tokens': 35})"
      ]
     },
     "execution_count": 19,
     "metadata": {},
     "output_type": "execute_result"
    }
   ],
   "source": [
    "llm.invoke(\"longest river in india\")"
   ]
  },
  {
   "cell_type": "code",
   "execution_count": 20,
   "metadata": {},
   "outputs": [],
   "source": [
    "from langchain.vectorstores import FAISS\n",
    "\n",
    "\n",
    "urls = [\n",
    "    \"https://lilianweng.github.io/posts/2023-06-23-agent/\",\n",
    "    \"https://lilianweng.github.io/posts/2023-03-15-prompt-engineering/\",\n",
    "    \"https://lilianweng.github.io/posts/2023-10-25-adv-attack-llm/\",\n",
    "]\n",
    "\n",
    "docs = [WebBaseLoader(url).load() for url in urls]\n",
    "docs_list = [item for sublist in docs for item in sublist]\n",
    "\n",
    "text_splitter = RecursiveCharacterTextSplitter(\n",
    "    chunk_size=750, chunk_overlap=150, length_function = len\n",
    ")\n",
    "doc_splits = text_splitter.split_documents(docs_list)\n",
    "\n",
    "# Add to vectorDB\n",
    "DB = FAISS.from_documents(\n",
    "    doc_splits, embed_model)\n",
    "\n",
    "\n",
    "db_retriever = DB.as_retriever()"
   ]
  },
  {
   "cell_type": "code",
   "execution_count": 21,
   "metadata": {},
   "outputs": [],
   "source": [
    "def _format_docs(docs):\n",
    "    info = [i.page_content for i in docs]\n",
    "    return \"\\n\\n\".join(info)\n"
   ]
  },
  {
   "cell_type": "code",
   "execution_count": 22,
   "metadata": {},
   "outputs": [
    {
     "data": {
      "text/plain": [
       "\"Citation#\\nCited as:\\n\\nWeng, Lilian. (Jun 2023). “LLM-powered Autonomous Agents”. Lil’Log. https://lilianweng.github.io/posts/2023-06-23-agent/.\\n\\nLLM Powered Autonomous Agents | Lil'Log\\n\\n\\n\\n\\n\\n\\n\\n\\n\\n\\n\\n\\n\\n\\n\\n\\n\\n\\n\\n\\n\\n\\n\\n\\n\\n\\n\\n\\n\\n\\n\\n\\n\\n\\n\\n\\n\\n\\n\\nLil'Log\\n\\n\\n\\n\\n\\n\\n\\n\\n\\n\\n\\n\\n\\n\\n\\n\\n\\n|\\n\\n\\n\\n\\n\\n\\nPosts\\n\\n\\n\\n\\nArchive\\n\\n\\n\\n\\nSearch\\n\\n\\n\\n\\nTags\\n\\n\\n\\n\\nFAQ\\n\\n\\n\\n\\nemojisearch.app\\n\\n\\n\\n\\n\\n\\n\\n\\n\\n      LLM Powered Autonomous Agents\\n    \\nDate: June 23, 2023  |  Estimated Reading Time: 31 min  |  Author: Lilian Weng\\n\\n\\n \\n\\n\\nTable of Contents\\n\\n\\n\\nAgent System Overview\\n\\nComponent One: Planning\\n\\nTask Decomposition\\n\\nSelf-Reflection\\n\\n\\nComponent Two: Memory\\n\\nTypes of Memory\\n\\nMaximum Inner Product Search (MIPS)\\n\\n\\nComponent Three: Tool Use\\n\\nCase Studies\\n\\nScientific Discovery Agent\\n\\nGenerative Agents Simulation\\n\\nProof-of-Concept Examples\\n\\n\\nChallenges\\n\\nCitation\\n\\nReferences\\n\\nGenerative Agents Simulation#\\nGenerative Agents (Park, et al. 2023) is super fun experiment where 25 virtual characters, each controlled by a LLM-powered agent, are living and interacting in a sandbox environment, inspired by The Sims. Generative agents create believable simulacra of human behavior for interactive applications.\\nThe design of generative agents combines LLM with memory, planning and reflection mechanisms to enable agents to behave conditioned on past experience, as well as to interact with other agents.\\n\\n}\\n]\\nChallenges#\\nAfter going through key ideas and demos of building LLM-centered agents, I start to see a couple common limitations:\""
      ]
     },
     "execution_count": 22,
     "metadata": {},
     "output_type": "execute_result"
    }
   ],
   "source": [
    "kk = db_retriever.invoke(\"agents\")\n",
    "_format_docs(kk)"
   ]
  },
  {
   "cell_type": "code",
   "execution_count": 23,
   "metadata": {},
   "outputs": [],
   "source": [
    "from langchain.tools.retriever import create_retriever_tool\n",
    "\n",
    "retriever_tool = create_retriever_tool(\n",
    "    db_retriever,\n",
    "    \"retrieve_blog_posts\",\n",
    "    \"Search and return information about Lilian Weng blog posts on LLM agents, prompt engineering, and adversarial attacks on LLMs.\",\n",
    ")\n",
    "\n",
    "my_tools = [retriever_tool]"
   ]
  },
  {
   "cell_type": "code",
   "execution_count": 24,
   "metadata": {},
   "outputs": [],
   "source": [
    "from typing import Annotated, Sequence\n",
    "from typing_extensions import TypedDict\n",
    "\n",
    "from langchain_core.messages import BaseMessage\n",
    "\n",
    "from langgraph.graph.message import add_messages\n"
   ]
  },
  {
   "cell_type": "code",
   "execution_count": 25,
   "metadata": {},
   "outputs": [],
   "source": [
    "from pydantic import BaseModel, Field\n",
    "# Data model\n",
    "class grade(BaseModel):\n",
    "    \"\"\"Binary score for relevance check.\"\"\"\n",
    "    \n",
    "    binary_score: str = Field(description=\"Relevance score 'yes' or 'no'\")"
   ]
  },
  {
   "cell_type": "code",
   "execution_count": 26,
   "metadata": {},
   "outputs": [],
   "source": [
    "llm_soutput = llm.with_structured_output(grade) "
   ]
  },
  {
   "cell_type": "code",
   "execution_count": 27,
   "metadata": {},
   "outputs": [],
   "source": [
    "# Prompt\n",
    "from langchain.prompts import PromptTemplate\n",
    "\n",
    "prompt = PromptTemplate(\n",
    "    template=\"\"\"You are a grader assessing relevance of a retrieved document to a user question. \\n \n",
    "    Here is the retrieved document: \\n\\n {context} \\n\\n\n",
    "    Here is the user question: {question} \\n\n",
    "    If the document contains keyword(s) or semantic meaning related to the user question, grade it as relevant. \\n\n",
    "    Give a binary score 'yes' or 'no' score to indicate whether the document is relevant to the question.\"\"\",\n",
    "    input_variables=[\"context\", \"question\"],\n",
    ")"
   ]
  },
  {
   "cell_type": "code",
   "execution_count": 28,
   "metadata": {},
   "outputs": [],
   "source": [
    "llm_grader = (prompt | llm_soutput)"
   ]
  },
  {
   "cell_type": "code",
   "execution_count": 30,
   "metadata": {},
   "outputs": [
    {
     "data": {
      "text/plain": [
       "grade(binary_score='no')"
      ]
     },
     "execution_count": 30,
     "metadata": {},
     "output_type": "execute_result"
    }
   ],
   "source": [
    "q = \"Who will win cricket match today\"\n",
    "llm_grader.invoke({\"question\":q,  \"context\":_format_docs(db_retriever.invoke(\"who will win match today\"))})"
   ]
  },
  {
   "cell_type": "code",
   "execution_count": 31,
   "metadata": {},
   "outputs": [],
   "source": [
    "from langchain_core.output_parsers import StrOutputParser\n",
    "\n",
    "template_rag = \"\"\"\n",
    "You are an assistant for question-answering tasks. Use the following pieces of retrieved context to answer the question. If you don't know the answer, just say that you don't know.\n",
    "Use three sentences maximum and keep the answer concise.\n",
    "If answer not in the context just say I dont know. Dont try to makeup an answer\n",
    "Question: {question} \n",
    "Context: {context} \n",
    "Answer:\n",
    "\"\"\"\n",
    "\n",
    "prompt_rag = PromptTemplate.from_template(template_rag)\n",
    "\n",
    "llm_rag = (prompt_rag | llm | StrOutputParser())"
   ]
  },
  {
   "cell_type": "code",
   "execution_count": 32,
   "metadata": {},
   "outputs": [],
   "source": [
    "class AgentState(TypedDict):\n",
    "    question : str\n",
    "    docs : str\n",
    "    generated_answer :  str\n",
    "    ### yes, no\n",
    "    similarity : str"
   ]
  },
  {
   "cell_type": "code",
   "execution_count": 33,
   "metadata": {},
   "outputs": [
    {
     "ename": "RatelimitException",
     "evalue": "https://links.duckduckgo.com/d.js?q=who+is+precident+of+india&kl=wt-wt&l=wt-wt&p=&s=0&df=&vqd=4-15730264448289718590023908591145930266&bing_market=wt-WT&ex=-1 202 Ratelimit",
     "output_type": "error",
     "traceback": [
      "\u001b[0;31m---------------------------------------------------------------------------\u001b[0m",
      "\u001b[0;31mRatelimitException\u001b[0m                        Traceback (most recent call last)",
      "Cell \u001b[0;32mIn[33], line 3\u001b[0m\n\u001b[1;32m      1\u001b[0m \u001b[38;5;28;01mfrom\u001b[39;00m \u001b[38;5;21;01mduckduckgo_search\u001b[39;00m \u001b[38;5;28;01mimport\u001b[39;00m DDGS\n\u001b[0;32m----> 3\u001b[0m result \u001b[38;5;241m=\u001b[39m \u001b[43mDDGS\u001b[49m\u001b[43m(\u001b[49m\u001b[43m)\u001b[49m\u001b[38;5;241;43m.\u001b[39;49m\u001b[43mtext\u001b[49m\u001b[43m(\u001b[49m\u001b[38;5;124;43m\"\u001b[39;49m\u001b[38;5;124;43mwho is precident of india\u001b[39;49m\u001b[38;5;124;43m\"\u001b[39;49m\u001b[43m,\u001b[49m\u001b[43mmax_results\u001b[49m\u001b[38;5;241;43m=\u001b[39;49m\u001b[38;5;241;43m3\u001b[39;49m\u001b[43m)\u001b[49m\n",
      "File \u001b[0;32m~/CODES/envs_global/LLM_BASE/lib/python3.10/site-packages/duckduckgo_search/duckduckgo_search.py:243\u001b[0m, in \u001b[0;36mDDGS.text\u001b[0;34m(self, keywords, region, safesearch, timelimit, backend, max_results)\u001b[0m\n\u001b[1;32m    <a href='file:///home/wpnx/CODES/envs_global/LLM_BASE/lib/python3.10/site-packages/duckduckgo_search/duckduckgo_search.py?line=239'>240</a>\u001b[0m     warnings\u001b[39m.\u001b[39mwarn(\u001b[39m\"\u001b[39m\u001b[39mlxml is not installed. Using backend=\u001b[39m\u001b[39m'\u001b[39m\u001b[39mapi\u001b[39m\u001b[39m'\u001b[39m\u001b[39m.\u001b[39m\u001b[39m\"\u001b[39m, stacklevel\u001b[39m=\u001b[39m\u001b[39m2\u001b[39m)\n\u001b[1;32m    <a href='file:///home/wpnx/CODES/envs_global/LLM_BASE/lib/python3.10/site-packages/duckduckgo_search/duckduckgo_search.py?line=241'>242</a>\u001b[0m \u001b[39mif\u001b[39;00m backend \u001b[39m==\u001b[39m \u001b[39m\"\u001b[39m\u001b[39mapi\u001b[39m\u001b[39m\"\u001b[39m:\n\u001b[0;32m--> <a href='file:///home/wpnx/CODES/envs_global/LLM_BASE/lib/python3.10/site-packages/duckduckgo_search/duckduckgo_search.py?line=242'>243</a>\u001b[0m     results \u001b[39m=\u001b[39m \u001b[39mself\u001b[39;49m\u001b[39m.\u001b[39;49m_text_api(keywords, region, safesearch, timelimit, max_results)\n\u001b[1;32m    <a href='file:///home/wpnx/CODES/envs_global/LLM_BASE/lib/python3.10/site-packages/duckduckgo_search/duckduckgo_search.py?line=243'>244</a>\u001b[0m \u001b[39melif\u001b[39;00m backend \u001b[39m==\u001b[39m \u001b[39m\"\u001b[39m\u001b[39mhtml\u001b[39m\u001b[39m\"\u001b[39m:\n\u001b[1;32m    <a href='file:///home/wpnx/CODES/envs_global/LLM_BASE/lib/python3.10/site-packages/duckduckgo_search/duckduckgo_search.py?line=244'>245</a>\u001b[0m     results \u001b[39m=\u001b[39m \u001b[39mself\u001b[39m\u001b[39m.\u001b[39m_text_html(keywords, region, timelimit, max_results)\n",
      "File \u001b[0;32m~/CODES/envs_global/LLM_BASE/lib/python3.10/site-packages/duckduckgo_search/duckduckgo_search.py:330\u001b[0m, in \u001b[0;36mDDGS._text_api\u001b[0;34m(self, keywords, region, safesearch, timelimit, max_results)\u001b[0m\n\u001b[1;32m    <a href='file:///home/wpnx/CODES/envs_global/LLM_BASE/lib/python3.10/site-packages/duckduckgo_search/duckduckgo_search.py?line=327'>328</a>\u001b[0m         results\u001b[39m.\u001b[39mextend(r)\n\u001b[1;32m    <a href='file:///home/wpnx/CODES/envs_global/LLM_BASE/lib/python3.10/site-packages/duckduckgo_search/duckduckgo_search.py?line=328'>329</a>\u001b[0m \u001b[39mexcept\u001b[39;00m \u001b[39mException\u001b[39;00m \u001b[39mas\u001b[39;00m e:\n\u001b[0;32m--> <a href='file:///home/wpnx/CODES/envs_global/LLM_BASE/lib/python3.10/site-packages/duckduckgo_search/duckduckgo_search.py?line=329'>330</a>\u001b[0m     \u001b[39mraise\u001b[39;00m e\n\u001b[1;32m    <a href='file:///home/wpnx/CODES/envs_global/LLM_BASE/lib/python3.10/site-packages/duckduckgo_search/duckduckgo_search.py?line=331'>332</a>\u001b[0m \u001b[39mreturn\u001b[39;00m \u001b[39mlist\u001b[39m(islice(results, max_results))\n",
      "File \u001b[0;32m~/CODES/envs_global/LLM_BASE/lib/python3.10/site-packages/duckduckgo_search/duckduckgo_search.py:327\u001b[0m, in \u001b[0;36mDDGS._text_api\u001b[0;34m(self, keywords, region, safesearch, timelimit, max_results)\u001b[0m\n\u001b[1;32m    <a href='file:///home/wpnx/CODES/envs_global/LLM_BASE/lib/python3.10/site-packages/duckduckgo_search/duckduckgo_search.py?line=324'>325</a>\u001b[0m     slist\u001b[39m.\u001b[39mextend(\u001b[39mrange\u001b[39m(\u001b[39m10\u001b[39m, max_results, \u001b[39m15\u001b[39m))\n\u001b[1;32m    <a href='file:///home/wpnx/CODES/envs_global/LLM_BASE/lib/python3.10/site-packages/duckduckgo_search/duckduckgo_search.py?line=325'>326</a>\u001b[0m \u001b[39mtry\u001b[39;00m:\n\u001b[0;32m--> <a href='file:///home/wpnx/CODES/envs_global/LLM_BASE/lib/python3.10/site-packages/duckduckgo_search/duckduckgo_search.py?line=326'>327</a>\u001b[0m     \u001b[39mfor\u001b[39;00m r \u001b[39min\u001b[39;00m \u001b[39mself\u001b[39m\u001b[39m.\u001b[39m_executor\u001b[39m.\u001b[39mmap(_text_api_page, slist):\n\u001b[1;32m    <a href='file:///home/wpnx/CODES/envs_global/LLM_BASE/lib/python3.10/site-packages/duckduckgo_search/duckduckgo_search.py?line=327'>328</a>\u001b[0m         results\u001b[39m.\u001b[39mextend(r)\n\u001b[1;32m    <a href='file:///home/wpnx/CODES/envs_global/LLM_BASE/lib/python3.10/site-packages/duckduckgo_search/duckduckgo_search.py?line=328'>329</a>\u001b[0m \u001b[39mexcept\u001b[39;00m \u001b[39mException\u001b[39;00m \u001b[39mas\u001b[39;00m e:\n",
      "File \u001b[0;32m/usr/lib/python3.10/concurrent/futures/_base.py:621\u001b[0m, in \u001b[0;36mExecutor.map.<locals>.result_iterator\u001b[0;34m()\u001b[0m\n\u001b[1;32m    <a href='file:///usr/lib/python3.10/concurrent/futures/_base.py?line=617'>618</a>\u001b[0m \u001b[39mwhile\u001b[39;00m fs:\n\u001b[1;32m    <a href='file:///usr/lib/python3.10/concurrent/futures/_base.py?line=618'>619</a>\u001b[0m     \u001b[39m# Careful not to keep a reference to the popped future\u001b[39;00m\n\u001b[1;32m    <a href='file:///usr/lib/python3.10/concurrent/futures/_base.py?line=619'>620</a>\u001b[0m     \u001b[39mif\u001b[39;00m timeout \u001b[39mis\u001b[39;00m \u001b[39mNone\u001b[39;00m:\n\u001b[0;32m--> <a href='file:///usr/lib/python3.10/concurrent/futures/_base.py?line=620'>621</a>\u001b[0m         \u001b[39myield\u001b[39;00m _result_or_cancel(fs\u001b[39m.\u001b[39;49mpop())\n\u001b[1;32m    <a href='file:///usr/lib/python3.10/concurrent/futures/_base.py?line=621'>622</a>\u001b[0m     \u001b[39melse\u001b[39;00m:\n\u001b[1;32m    <a href='file:///usr/lib/python3.10/concurrent/futures/_base.py?line=622'>623</a>\u001b[0m         \u001b[39myield\u001b[39;00m _result_or_cancel(fs\u001b[39m.\u001b[39mpop(), end_time \u001b[39m-\u001b[39m time\u001b[39m.\u001b[39mmonotonic())\n",
      "File \u001b[0;32m/usr/lib/python3.10/concurrent/futures/_base.py:319\u001b[0m, in \u001b[0;36m_result_or_cancel\u001b[0;34m(***failed resolving arguments***)\u001b[0m\n\u001b[1;32m    <a href='file:///usr/lib/python3.10/concurrent/futures/_base.py?line=316'>317</a>\u001b[0m \u001b[39mtry\u001b[39;00m:\n\u001b[1;32m    <a href='file:///usr/lib/python3.10/concurrent/futures/_base.py?line=317'>318</a>\u001b[0m     \u001b[39mtry\u001b[39;00m:\n\u001b[0;32m--> <a href='file:///usr/lib/python3.10/concurrent/futures/_base.py?line=318'>319</a>\u001b[0m         \u001b[39mreturn\u001b[39;00m fut\u001b[39m.\u001b[39;49mresult(timeout)\n\u001b[1;32m    <a href='file:///usr/lib/python3.10/concurrent/futures/_base.py?line=319'>320</a>\u001b[0m     \u001b[39mfinally\u001b[39;00m:\n\u001b[1;32m    <a href='file:///usr/lib/python3.10/concurrent/futures/_base.py?line=320'>321</a>\u001b[0m         fut\u001b[39m.\u001b[39mcancel()\n",
      "File \u001b[0;32m/usr/lib/python3.10/concurrent/futures/_base.py:458\u001b[0m, in \u001b[0;36mFuture.result\u001b[0;34m(self, timeout)\u001b[0m\n\u001b[1;32m    <a href='file:///usr/lib/python3.10/concurrent/futures/_base.py?line=455'>456</a>\u001b[0m     \u001b[39mraise\u001b[39;00m CancelledError()\n\u001b[1;32m    <a href='file:///usr/lib/python3.10/concurrent/futures/_base.py?line=456'>457</a>\u001b[0m \u001b[39melif\u001b[39;00m \u001b[39mself\u001b[39m\u001b[39m.\u001b[39m_state \u001b[39m==\u001b[39m FINISHED:\n\u001b[0;32m--> <a href='file:///usr/lib/python3.10/concurrent/futures/_base.py?line=457'>458</a>\u001b[0m     \u001b[39mreturn\u001b[39;00m \u001b[39mself\u001b[39;49m\u001b[39m.\u001b[39;49m__get_result()\n\u001b[1;32m    <a href='file:///usr/lib/python3.10/concurrent/futures/_base.py?line=458'>459</a>\u001b[0m \u001b[39melse\u001b[39;00m:\n\u001b[1;32m    <a href='file:///usr/lib/python3.10/concurrent/futures/_base.py?line=459'>460</a>\u001b[0m     \u001b[39mraise\u001b[39;00m \u001b[39mTimeoutError\u001b[39;00m()\n",
      "File \u001b[0;32m/usr/lib/python3.10/concurrent/futures/_base.py:403\u001b[0m, in \u001b[0;36mFuture.__get_result\u001b[0;34m(self)\u001b[0m\n\u001b[1;32m    <a href='file:///usr/lib/python3.10/concurrent/futures/_base.py?line=400'>401</a>\u001b[0m \u001b[39mif\u001b[39;00m \u001b[39mself\u001b[39m\u001b[39m.\u001b[39m_exception:\n\u001b[1;32m    <a href='file:///usr/lib/python3.10/concurrent/futures/_base.py?line=401'>402</a>\u001b[0m     \u001b[39mtry\u001b[39;00m:\n\u001b[0;32m--> <a href='file:///usr/lib/python3.10/concurrent/futures/_base.py?line=402'>403</a>\u001b[0m         \u001b[39mraise\u001b[39;00m \u001b[39mself\u001b[39m\u001b[39m.\u001b[39m_exception\n\u001b[1;32m    <a href='file:///usr/lib/python3.10/concurrent/futures/_base.py?line=403'>404</a>\u001b[0m     \u001b[39mfinally\u001b[39;00m:\n\u001b[1;32m    <a href='file:///usr/lib/python3.10/concurrent/futures/_base.py?line=404'>405</a>\u001b[0m         \u001b[39m# Break a reference cycle with the exception in self._exception\u001b[39;00m\n\u001b[1;32m    <a href='file:///usr/lib/python3.10/concurrent/futures/_base.py?line=405'>406</a>\u001b[0m         \u001b[39mself\u001b[39m \u001b[39m=\u001b[39m \u001b[39mNone\u001b[39;00m\n",
      "File \u001b[0;32m/usr/lib/python3.10/concurrent/futures/thread.py:58\u001b[0m, in \u001b[0;36m_WorkItem.run\u001b[0;34m(self)\u001b[0m\n\u001b[1;32m     <a href='file:///usr/lib/python3.10/concurrent/futures/thread.py?line=54'>55</a>\u001b[0m     \u001b[39mreturn\u001b[39;00m\n\u001b[1;32m     <a href='file:///usr/lib/python3.10/concurrent/futures/thread.py?line=56'>57</a>\u001b[0m \u001b[39mtry\u001b[39;00m:\n\u001b[0;32m---> <a href='file:///usr/lib/python3.10/concurrent/futures/thread.py?line=57'>58</a>\u001b[0m     result \u001b[39m=\u001b[39m \u001b[39mself\u001b[39;49m\u001b[39m.\u001b[39;49mfn(\u001b[39m*\u001b[39;49m\u001b[39mself\u001b[39;49m\u001b[39m.\u001b[39;49margs, \u001b[39m*\u001b[39;49m\u001b[39m*\u001b[39;49m\u001b[39mself\u001b[39;49m\u001b[39m.\u001b[39;49mkwargs)\n\u001b[1;32m     <a href='file:///usr/lib/python3.10/concurrent/futures/thread.py?line=58'>59</a>\u001b[0m \u001b[39mexcept\u001b[39;00m \u001b[39mBaseException\u001b[39;00m \u001b[39mas\u001b[39;00m exc:\n\u001b[1;32m     <a href='file:///usr/lib/python3.10/concurrent/futures/thread.py?line=59'>60</a>\u001b[0m     \u001b[39mself\u001b[39m\u001b[39m.\u001b[39mfuture\u001b[39m.\u001b[39mset_exception(exc)\n",
      "File \u001b[0;32m~/CODES/envs_global/LLM_BASE/lib/python3.10/site-packages/duckduckgo_search/duckduckgo_search.py:305\u001b[0m, in \u001b[0;36mDDGS._text_api.<locals>._text_api_page\u001b[0;34m(s)\u001b[0m\n\u001b[1;32m    <a href='file:///home/wpnx/CODES/envs_global/LLM_BASE/lib/python3.10/site-packages/duckduckgo_search/duckduckgo_search.py?line=302'>303</a>\u001b[0m \u001b[39mdef\u001b[39;00m \u001b[39m_text_api_page\u001b[39m(s: \u001b[39mint\u001b[39m) \u001b[39m-\u001b[39m\u001b[39m>\u001b[39m \u001b[39mlist\u001b[39m[\u001b[39mdict\u001b[39m[\u001b[39mstr\u001b[39m, \u001b[39mstr\u001b[39m]]:\n\u001b[1;32m    <a href='file:///home/wpnx/CODES/envs_global/LLM_BASE/lib/python3.10/site-packages/duckduckgo_search/duckduckgo_search.py?line=303'>304</a>\u001b[0m     payload[\u001b[39m\"\u001b[39m\u001b[39ms\u001b[39m\u001b[39m\"\u001b[39m] \u001b[39m=\u001b[39m \u001b[39mf\u001b[39m\u001b[39m\"\u001b[39m\u001b[39m{\u001b[39;00ms\u001b[39m}\u001b[39;00m\u001b[39m\"\u001b[39m\n\u001b[0;32m--> <a href='file:///home/wpnx/CODES/envs_global/LLM_BASE/lib/python3.10/site-packages/duckduckgo_search/duckduckgo_search.py?line=304'>305</a>\u001b[0m     resp_content \u001b[39m=\u001b[39m \u001b[39mself\u001b[39;49m\u001b[39m.\u001b[39;49m_get_url(\u001b[39m\"\u001b[39;49m\u001b[39mGET\u001b[39;49m\u001b[39m\"\u001b[39;49m, \u001b[39m\"\u001b[39;49m\u001b[39mhttps://links.duckduckgo.com/d.js\u001b[39;49m\u001b[39m\"\u001b[39;49m, params\u001b[39m=\u001b[39;49mpayload)\n\u001b[1;32m    <a href='file:///home/wpnx/CODES/envs_global/LLM_BASE/lib/python3.10/site-packages/duckduckgo_search/duckduckgo_search.py?line=305'>306</a>\u001b[0m     page_data \u001b[39m=\u001b[39m _text_extract_json(resp_content, keywords)\n\u001b[1;32m    <a href='file:///home/wpnx/CODES/envs_global/LLM_BASE/lib/python3.10/site-packages/duckduckgo_search/duckduckgo_search.py?line=306'>307</a>\u001b[0m     page_results \u001b[39m=\u001b[39m []\n",
      "File \u001b[0;32m~/CODES/envs_global/LLM_BASE/lib/python3.10/site-packages/duckduckgo_search/duckduckgo_search.py:133\u001b[0m, in \u001b[0;36mDDGS._get_url\u001b[0;34m(self, method, url, params, content, data)\u001b[0m\n\u001b[1;32m    <a href='file:///home/wpnx/CODES/envs_global/LLM_BASE/lib/python3.10/site-packages/duckduckgo_search/duckduckgo_search.py?line=130'>131</a>\u001b[0m \u001b[39mself\u001b[39m\u001b[39m.\u001b[39m_exception_event\u001b[39m.\u001b[39mset()\n\u001b[1;32m    <a href='file:///home/wpnx/CODES/envs_global/LLM_BASE/lib/python3.10/site-packages/duckduckgo_search/duckduckgo_search.py?line=131'>132</a>\u001b[0m \u001b[39mif\u001b[39;00m resp\u001b[39m.\u001b[39mstatus_code \u001b[39min\u001b[39;00m (\u001b[39m202\u001b[39m, \u001b[39m301\u001b[39m, \u001b[39m403\u001b[39m):\n\u001b[0;32m--> <a href='file:///home/wpnx/CODES/envs_global/LLM_BASE/lib/python3.10/site-packages/duckduckgo_search/duckduckgo_search.py?line=132'>133</a>\u001b[0m     \u001b[39mraise\u001b[39;00m RatelimitException(\u001b[39mf\u001b[39m\u001b[39m\"\u001b[39m\u001b[39m{\u001b[39;00mresp\u001b[39m.\u001b[39murl\u001b[39m}\u001b[39;00m\u001b[39m \u001b[39m\u001b[39m{\u001b[39;00mresp\u001b[39m.\u001b[39mstatus_code\u001b[39m}\u001b[39;00m\u001b[39m Ratelimit\u001b[39m\u001b[39m\"\u001b[39m)\n\u001b[1;32m    <a href='file:///home/wpnx/CODES/envs_global/LLM_BASE/lib/python3.10/site-packages/duckduckgo_search/duckduckgo_search.py?line=133'>134</a>\u001b[0m \u001b[39mraise\u001b[39;00m DuckDuckGoSearchException(\u001b[39mf\u001b[39m\u001b[39m\"\u001b[39m\u001b[39m{\u001b[39;00mresp\u001b[39m.\u001b[39murl\u001b[39m}\u001b[39;00m\u001b[39m return None. \u001b[39m\u001b[39m{\u001b[39;00mparams\u001b[39m=}\u001b[39;00m\u001b[39m \u001b[39m\u001b[39m{\u001b[39;00mcontent\u001b[39m=}\u001b[39;00m\u001b[39m \u001b[39m\u001b[39m{\u001b[39;00mdata\u001b[39m=}\u001b[39;00m\u001b[39m\"\u001b[39m)\n",
      "\u001b[0;31mRatelimitException\u001b[0m: https://links.duckduckgo.com/d.js?q=who+is+precident+of+india&kl=wt-wt&l=wt-wt&p=&s=0&df=&vqd=4-15730264448289718590023908591145930266&bing_market=wt-WT&ex=-1 202 Ratelimit"
     ]
    }
   ],
   "source": [
    "from duckduckgo_search import DDGS\n",
    "\n",
    "result = DDGS().text(\"who is precident of india\",max_results=3)"
   ]
  },
  {
   "cell_type": "code",
   "execution_count": null,
   "metadata": {},
   "outputs": [
    {
     "data": {
      "text/plain": [
       "['The president of India is the head of state of the Republic of India and the Supreme Commander of the Indian Armed Forces.The president is referred to as the first citizen of India. [1] [2] Although vested with these powers by the Constitution of India, the position is largely a ceremonial one and executive powers are de facto exercised by the prime minister.',\n",
       " 'The president of India (ISO: Bhārata kē Rāṣṭrapati) is the head of state of the Republic of India.The president is the nominal head of the executive, [a] the first citizen of the country, as well as the supreme commander of the Indian Armed Forces. Droupadi Murmu is the 15th and current president, having taken office from 25 July 2022.. The office of president was created when India ...',\n",
       " 'The President of India, Smt Droupadi Murmu paid floral tributes to Dr Rajendra Prasad, the first President of India on his birth anniversary at Rashtrapati Bhavan on December 3, 2024. Officer Trainees of Indian Revenue Service (Customs and Indirect Taxes) called on the President of India, Smt. Droupadi Murmu at Rashtrapati Bhavan on December 2 ...']"
      ]
     },
     "execution_count": 13,
     "metadata": {},
     "output_type": "execute_result"
    }
   ],
   "source": [
    "[i['body'] for i in result]"
   ]
  },
  {
   "cell_type": "code",
   "execution_count": 60,
   "metadata": {},
   "outputs": [],
   "source": [
    "\n",
    "def retrieve_docs(state):\n",
    "    print(\"--- Retriever ---\")\n",
    "\n",
    "    docs = db_retriever.invoke(state[\"question\"])\n",
    "    docs = _format_docs(docs)\n",
    "\n",
    "    state[\"docs\"] = docs\n",
    "\n",
    "    return state\n",
    "\n",
    "\n",
    "\n",
    "def relevance_check(state):\n",
    "\n",
    "    print(\"---- check relevance ---\")\n",
    "\n",
    "    question = state[\"question\"]\n",
    "    docs = db_retriever.invoke(question)[0]\n",
    "    score = llm_grader.invoke({\"question\": question, \"context\": docs })\n",
    "    state[\"similarity\"] = score.binary_score\n",
    "    print(\"similarity\", score)\n",
    "    \n",
    "    return state\n",
    "\n",
    "\n",
    "def ROUTER(state):\n",
    "    score = state[\"similarity\"]\n",
    "    if score == \"yes\":\n",
    "        return \"yes\"\n",
    "    else:\n",
    "        return \"no\"    \n",
    "\n",
    "\n",
    "def find_answer(state):\n",
    "    print(\"--- finding answers ---\")\n",
    "    question = state[\"question\"]\n",
    "    docs = state[\"docs\"]\n",
    "    answer = llm_rag.invoke({\"question\": question, \"context\": docs})\n",
    "    print(\"answer\")\n",
    "    state[\"generated_answer\"] = answer \n",
    "\n",
    "    return state\n",
    "\n",
    "def web_search_tool(state):\n",
    "    print(\"--- web search tool ---\")\n",
    "    question = state[\"question\"]\n",
    "    result = DDGS().text(question,max_results=3)\n",
    "    docs = [i[\"body\"] for i in result]\n",
    "    docs = \"\\n\\n\".join(docs)\n",
    "    state[\"docs\"] = docs\n",
    "    return state\n",
    "\n",
    "def pretty_print(state):\n",
    "    print(\"--- preety print ---\")\n",
    "    print(\"Question: \",state[\"question\"])\n",
    "    print(\"Answer: \"  ,state[\"generated_answer\"])"
   ]
  },
  {
   "cell_type": "code",
   "execution_count": 61,
   "metadata": {},
   "outputs": [],
   "source": [
    "from langgraph.graph import END, StateGraph, START\n",
    "from langgraph.checkpoint.memory import MemorySaver\n",
    "\n",
    "\n",
    "memory = MemorySaver()\n",
    "config = {\"configurable\": {\"thread_id\":\"1\"}}"
   ]
  },
  {
   "cell_type": "code",
   "execution_count": 62,
   "metadata": {},
   "outputs": [],
   "source": [
    "workflow = StateGraph(AgentState)\n",
    "\n",
    "### nodes\n",
    "# workflow.add_node(\"agent\",agent)\n",
    "workflow.add_node(\"db_retriever\", retrieve_docs)\n",
    "workflow.add_node(\"relevance_check\",relevance_check)\n",
    "workflow.add_node(\"find_answer\", find_answer)\n",
    "workflow.add_node(\"web_search_tool\",web_search_tool)\n",
    "workflow.add_node(\"pretty_print\",pretty_print)\n",
    "\n",
    "### edges\n",
    "workflow.add_edge(START, \"db_retriever\")\n",
    "workflow.add_edge(\"db_retriever\", \"relevance_check\")\n",
    "workflow.add_conditional_edges(\"relevance_check\",ROUTER, {\"yes\": \"find_answer\", \"no\": \"web_search_tool\"} )\n",
    "workflow.add_edge(\"web_search_tool\",\"find_answer\")\n",
    "workflow.add_edge(\"find_answer\", \"pretty_print\")\n",
    "workflow.add_edge(\"pretty_print\", END)\n",
    "\n",
    "\n",
    "# graph = workflow.compile(checkpointer=memory)\n",
    "graph = workflow.compile()\n"
   ]
  },
  {
   "cell_type": "markdown",
   "metadata": {},
   "source": []
  },
  {
   "cell_type": "code",
   "execution_count": 63,
   "metadata": {},
   "outputs": [
    {
     "data": {
      "image/png": "[encoded data removed]",
      "text/plain": [
       "<IPython.core.display.Image object>"
      ]
     },
     "execution_count": 63,
     "metadata": {},
     "output_type": "execute_result"
    }
   ],
   "source": [
    "from IPython.display import Image,display\n",
    "\n",
    "Image(graph.get_graph().draw_mermaid_png())\n"
   ]
  },
  {
   "cell_type": "code",
   "execution_count": 64,
   "metadata": {},
   "outputs": [
    {
     "name": "stdout",
     "output_type": "stream",
     "text": [
      "--- Retriever ---\n",
      "---- check relevance ---\n",
      "similarity binary_score='no'\n",
      "--- web search tool ---\n",
      "--- finding answers ---\n",
      "answer\n",
      "--- preety print ---\n",
      "Question:  Who won cricket world cup in 2024?\n",
      "Answer:  India won the Cricket World Cup in 2024.\n",
      " \n",
      " They defeated South Africa by a margin of 7 runs.  \n",
      "\n",
      "\n"
     ]
    },
    {
     "data": {
      "text/plain": [
       "{'question': 'Who won cricket world cup in 2024?',\n",
       " 'docs': \"The 2024 ICC Men's T20 World Cup final was a Twenty20 International cricket match played at Kensington Oval in Bridgetown, Barbados on 29 June 2024 to determine the winner of the 2024 ICC Men's T20 World Cup. [1] [2] It was played between South Africa and India.[3]India defeated South Africa by 7 runs to win their second T20 World Cup title. [4] Virat Kohli was named Player of the Match for ...\\n\\nIndia produced a brilliant performance to defeat South Africa in a dramatic men's T20 World Cup final, ending a long 13-year wait for the cricket-obsessed nation since its last World Cup win.\\n\\nJasprit Bumrah turns match around while Suryakumar Yadav takes match-winning catch as India become world champions again with 7-run win. ... and teammates celebrate with the winners trophy after defeating South Africa in the ICC Men's T20 World Cup final cricket match at Kensington Oval in Bridgetown, Barbados, Saturday, June 29, 2024 ...\",\n",
       " 'generated_answer': 'India won the Cricket World Cup in 2024.\\r\\n \\r\\n They defeated South Africa by a margin of 7 runs.  \\r\\n\\r\\n',\n",
       " 'similarity': 'no'}"
      ]
     },
     "execution_count": 64,
     "metadata": {},
     "output_type": "execute_result"
    }
   ],
   "source": [
    "inputs = {\"question\": \"Who won cricket world cup in 2024?\"}\n",
    "graph.invoke(inputs)"
   ]
  },
  {
   "cell_type": "code",
   "execution_count": null,
   "metadata": {},
   "outputs": [],
   "source": []
  },
  {
   "cell_type": "code",
   "execution_count": null,
   "metadata": {},
   "outputs": [],
   "source": []
  }
 ],
 "metadata": {
  "interpreter": {
   "hash": "65d5b973df018881c1e352226f0584e29ac61ffa4b62fd4419bb6202e684198e"
  },
  "kernelspec": {
   "display_name": "Python 3.10.12 ('LLM_BASE')",
   "language": "python",
   "name": "python3"
  },
  "language_info": {
   "codemirror_mode": {
    "name": "ipython",
    "version": 3
   },
   "file_extension": ".py",
   "mimetype": "text/x-python",
   "name": "python",
   "nbconvert_exporter": "python",
   "pygments_lexer": "ipython3",
   "version": "3.10.12"
  },
  "orig_nbformat": 4
 },
 "nbformat": 4,
 "nbformat_minor": 2
}
